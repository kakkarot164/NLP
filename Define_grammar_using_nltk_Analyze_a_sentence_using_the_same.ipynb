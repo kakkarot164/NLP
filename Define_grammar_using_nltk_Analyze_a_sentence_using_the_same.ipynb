{
  "nbformat": 4,
  "nbformat_minor": 0,
  "metadata": {
    "colab": {
      "provenance": []
    },
    "kernelspec": {
      "name": "python3",
      "display_name": "Python 3"
    },
    "language_info": {
      "name": "python"
    }
  },
  "cells": [
    {
      "cell_type": "code",
      "execution_count": 3,
      "metadata": {
        "colab": {
          "base_uri": "https://localhost:8080/"
        },
        "id": "vgcpjdPCDkb-",
        "outputId": "5a65de55-c78b-479a-e483-7711f7496a50"
      },
      "outputs": [
        {
          "output_type": "stream",
          "name": "stdout",
          "text": [
            "(S (VP (VP Book) (NP (Det that) (NP flight))))\n",
            "      S             \n",
            "      |              \n",
            "      VP            \n",
            "  ____|____          \n",
            " |         NP       \n",
            " |     ____|____     \n",
            " VP  Det        NP  \n",
            " |    |         |    \n",
            "Book that     flight\n",
            "\n"
          ]
        }
      ],
      "source": [
        "import nltk\n",
        "from nltk import tokenize\n",
        "\n",
        "grammar1 = nltk.CFG.fromstring(\"\"\"\n",
        "S -> VP\n",
        "VP -> VP NP\n",
        "NP -> Det NP\n",
        "Det -> 'that'\n",
        "NP -> singular Noun\n",
        "NP -> 'flight'\n",
        "VP -> 'Book'\n",
        "\"\"\")\n",
        "\n",
        "sentence = \"Book that flight\"\n",
        "all_tokens = tokenize.word_tokenize(sentence)\n",
        "\n",
        "parser = nltk.ChartParser(grammar1)\n",
        "\n",
        "for tree in parser.parse(all_tokens):\n",
        "    print(tree)\n",
        "    tree.pretty_print()\n"
      ]
    },
    {
      "cell_type": "code",
      "source": [],
      "metadata": {
        "id": "Yw7GkVbjGf7x"
      },
      "execution_count": null,
      "outputs": []
    }
  ]
}